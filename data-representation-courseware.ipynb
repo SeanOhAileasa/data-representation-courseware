{
 "cells": [
  {
   "cell_type": "code",
   "execution_count": null,
   "id": "76b6aaa9",
   "metadata": {},
   "outputs": [
    {
     "data": {
      "text/html": [
       "<script>Jupyter.notebook.kernel.restart()</script>"
      ]
     },
     "metadata": {},
     "output_type": "display_data"
    }
   ],
   "source": [
    "from IPython.core.display import display_html\n",
    "display_html(\"<script>Jupyter.notebook.kernel.restart()</script>\",raw=True)"
   ]
  },
  {
   "cell_type": "code",
   "execution_count": 1,
   "id": "19093beb",
   "metadata": {},
   "outputs": [
    {
     "data": {
      "text/html": [
       "<style>.container { width:100% !important; }</style>"
      ],
      "text/plain": [
       "<IPython.core.display.HTML object>"
      ]
     },
     "metadata": {},
     "output_type": "display_data"
    },
    {
     "data": {
      "text/html": [
       "<style>.container { width:100% !important; }</style>"
      ],
      "text/plain": [
       "<IPython.core.display.HTML object>"
      ]
     },
     "metadata": {},
     "output_type": "display_data"
    }
   ],
   "source": [
    "from sys import path; path.insert(1,\"../src\");\n",
    "import fubar; from importlib import reload; reload(fubar);"
   ]
  },
  {
   "cell_type": "markdown",
   "id": "47be5cdf",
   "metadata": {},
   "source": [
    "***\n",
    "< [GMIT Data Analytics](https://web.archive.org/web/20201029063153/https://www.gmit.ie/computer-science-and-applied-physics/higher-diploma-science-computing-data-analytics-ict) | [Home](https://github.com/SeanOhAileasa) | [README](https://github.com/SeanOhAileasa/drp-data-representation/blob/main/README.md) >\n",
    "\n",
    "[![GMIT](https://github.com/SeanOhAileasa/SeanOhAileasa/blob/master/rc/gmit.png?raw=true)](https://web.archive.org/web/20201029063153/https://www.gmit.ie/computer-science-and-applied-physics/higher-diploma-science-computing-data-analytics-ict)\n",
    "\n",
    "## Data Representation - Course Material 2021\n",
    "### Topic: [Data Representation](https://nbviewer.jupyter.org/github/SeanOhAileasa/drp-data-representation/blob/main/drp-data-representation.ipynb)\n",
    "\n",
    "Course quizzes for the ``Data Representation`` module (5 Credits) of the ``Higher Diploma in Science in Computing (Data Analytics) (H.Dip)`` programme (75 Credits) at **Galway-Mayo Institute of Technology (GMIT)**.\n",
    "***"
   ]
  },
  {
   "cell_type": "markdown",
   "id": "e1449819",
   "metadata": {},
   "source": [
    "<a id=\"top\"></a>\n",
    "***\n",
    "## Table of Contents\n",
    "***\n",
    "\n",
    "### [Quizzes](#abstract)\n",
    "\n",
    "* [Week 2 (Create an XML file)](#week2) <br/><br/>\n",
    "* [Week 3 Quiz (Consuming XML/HTML data from the web)](#week3) <br/><br/>\n",
    "* [Week 4 Quiz (HTTP JSON AJAX and REST)](#week4) <br/><br/>\n",
    "* [Week 5 Quiz (CURL and REST)](#week5)"
   ]
  },
  {
   "cell_type": "markdown",
   "id": "bc989e6f",
   "metadata": {},
   "source": [
    "***\n",
    "## END"
   ]
  },
  {
   "cell_type": "markdown",
   "id": "0c88ab4a",
   "metadata": {},
   "source": [
    "< [Table of Contents](#top) | [References](#references) >\n",
    "<a id=\"abstract\"></a>\n",
    "***\n",
    "### Quizzes\n",
    "***"
   ]
  },
  {
   "cell_type": "markdown",
   "id": "d9f4c2df",
   "metadata": {},
   "source": [
    "< [Table of Contents](#top) | [References](#references) >\n",
    "<a id=\"week2\"></a>\n",
    "***\n",
    "###### Week 2 (Create an XML file)\n",
    "***"
   ]
  },
  {
   "cell_type": "markdown",
   "id": "80f27719",
   "metadata": {},
   "source": [
    "Create an XML file that stores data for a library. \n",
    "\n",
    "The library has two catalogues (technical books, and for cookery books).\n",
    "\n",
    "Each catalogue can contain a number of books (say 2 for the purpose of this exercise) . \n",
    "\n",
    "Books will have an ISBN, title and author.\n",
    "***"
   ]
  },
  {
   "cell_type": "code",
   "execution_count": 1,
   "id": "56c236f1",
   "metadata": {},
   "outputs": [
    {
     "name": "stdout",
     "output_type": "stream",
     "text": [
      "<?xml version=\"1.0\" encoding=\"UTF-8\"?> <!-- COMMENT: declaration -->\r\n",
      "<Catalogue> <!-- COMMENT: root element - START -->\r\n",
      "    <Book category=\"Technical\"> <!-- COMMENT: <Catalogue> child element - attribute category - 1 - START -->\r\n",
      "        <ISBN>1593279280</ISBN> <!-- COMMENT: <Book> child element - START/END -->\r\n",
      "        <Title>Python Crash Course</Title>\r\n",
      "        <Author>E. Matthes</Author>\r\n",
      "    </Book> <!-- COMMENT: <Catalogue> child element - 1 - END -->\r\n",
      "    <Book category=\"Technical\"> <!-- COMMENT: <Catalogue> child element - attribute category - 2 - START -->\r\n",
      "        <ISBN>0471257095</ISBN> <!-- COMMENT: <Book> child element - START/END -->\r\n",
      "        <Title>An Introduction to Probability Theory and Its Applications</Title>\r\n",
      "        <Author>W. Feller</Author>  \r\n",
      "    </Book> <!-- COMMENT: <Catalogue> child element - 2 - END -->\r\n",
      "    <Book category=\"Cookery\"> <!-- COMMENT: <Catalogue> child element - attribute category - 1 - START -->\r\n",
      "        <ISBN>1911632779</ISBN> <!-- COMMENT: <Book> child element - START/END -->\r\n",
      "        <Title>Japanese Food Made Easy</Title>\r\n",
      "        <Author>A. Nishimura</Author>  \r\n",
      "    </Book> <!-- COMMENT: <Catalogue> child element - 1 - END -->\r\n",
      "    <Book category=\"Cookery\"> <!-- COMMENT: <Catalogue> child element - attribute category - 2 - START -->\r\n",
      "        <ISBN>1849758840</ISBN> <!-- COMMENT: <Book> child element - START/END -->\r\n",
      "        <Title>Sushi Made Simple</Title>\r\n",
      "        <Author>A. Ikeda</Author>  \r\n",
      "    </Book> <!-- COMMENT: <Catalogue> child element - 2 - END -->\r\n",
      "</Catalogue> <!-- COMMENT: root element - END -->"
     ]
    }
   ],
   "source": [
    "%%script bash\n",
    "cat ./rc/library.xml"
   ]
  },
  {
   "cell_type": "markdown",
   "id": "f39f0361",
   "metadata": {},
   "source": [
    "< [Table of Contents](#top) | [References](#references) >\n",
    "<a id=\"week3\"></a>\n",
    "***\n",
    "###### Week 3 Quiz (Consuming XML/HTML data from the web)\n",
    "***"
   ]
  },
  {
   "cell_type": "markdown",
   "id": "f4b56046",
   "metadata": {},
   "source": [
    "```\n",
    "Look at this URL:\n",
    "\n",
    "https://github.com/andrewbeattycourseware/dataRepresentation\n",
    "\n",
    "What is the resource does this URL point to?\n",
    "```\n",
    "***"
   ]
  },
  {
   "cell_type": "markdown",
   "id": "62f97b47",
   "metadata": {},
   "source": [
    "``/andrewbeattycourseware/dataRepresentation``"
   ]
  },
  {
   "cell_type": "markdown",
   "id": "92c1a5c6",
   "metadata": {},
   "source": [
    "```\n",
    "Look at this URL\n",
    "\n",
    "https://github.com/andrewbeattycourseware/dataRepresentation\n",
    "\n",
    "What is the host of this URL?\n",
    "```\n",
    "***"
   ]
  },
  {
   "cell_type": "markdown",
   "id": "683fa6a4",
   "metadata": {},
   "source": [
    "``github.com``"
   ]
  },
  {
   "cell_type": "markdown",
   "id": "2ff0d5e8",
   "metadata": {},
   "source": [
    "```\n",
    "Look at this URL\n",
    "\n",
    "https://learnonline.gmit.ie/course/view.php?id=1119\n",
    "\n",
    "What is the parameter name and value in this URL?\n",
    "```\n",
    "***"
   ]
  },
  {
   "cell_type": "markdown",
   "id": "c22db587",
   "metadata": {},
   "source": [
    "``id=1119``"
   ]
  },
  {
   "cell_type": "markdown",
   "id": "9ccc92c9",
   "metadata": {},
   "source": [
    "```\n",
    "What is the command to get data from a url (say http://gmit.ie)?\n",
    "\n",
    "ie what code would go where the the Xs are\n",
    "\n",
    "import requests\n",
    "page = XXXXXXXXXXXXXXXXXXX\n",
    "```\n",
    "***"
   ]
  },
  {
   "cell_type": "markdown",
   "id": "22f86a02",
   "metadata": {},
   "source": [
    "``requests.get(\"http://gmit.ie\")``"
   ]
  },
  {
   "cell_type": "markdown",
   "id": "bdb7f497",
   "metadata": {},
   "source": [
    "```\n",
    "What is the function you would use in beautifulsoup to find all the <tr> tags?\n",
    "\n",
    "ie what function would go where the Xs are?\n",
    "\n",
    "rows = soup.xxxxxxx\n",
    "```\n",
    "***"
   ]
  },
  {
   "cell_type": "markdown",
   "id": "b7db44d9",
   "metadata": {},
   "source": [
    "``findAll(\"tr\")``"
   ]
  },
  {
   "cell_type": "markdown",
   "id": "dbe444d4",
   "metadata": {},
   "source": [
    "```xml\n",
    "<contents>\n",
    "   <data1> one</data1>\n",
    "<data2>two</data2>\n",
    "</contents>\n",
    "```\n",
    "\n",
    "```\n",
    "in a xml file how would you extract the contents of the data2 tag (ie the value 2)?\n",
    "\n",
    "ie what would go where the Xs are\n",
    "\n",
    "contentsTag = soup.find(\"contents\")\n",
    "var = contentsTag.data2.XXXXXXX  // contents.data2 gets the data2 tag similar to contentsTag.find(\"data2\")\n",
    "\n",
    "This is a one word answer\n",
    "```\n",
    "***"
   ]
  },
  {
   "cell_type": "markdown",
   "id": "f6d0634b",
   "metadata": {},
   "source": [
    "``string``"
   ]
  },
  {
   "cell_type": "markdown",
   "id": "c6a4fc87",
   "metadata": {},
   "source": [
    "```\n",
    "Go to \n",
    "\n",
    "https://www.davyselect.ie/markets-shareprices/shares?ric=CRH.I\n",
    "\n",
    "    note the share price for CRH\n",
    "    view-source for this page \n",
    "    ctrl-F search for the share price\n",
    "\n",
    "What is the classes (2) for the containing <data> tag?\n",
    "(When I did this search the price appeared 4 times, you are looking for the one that is in a <data> tag. I think it is the first appearance)\n",
    "```\n",
    "***"
   ]
  },
  {
   "cell_type": "markdown",
   "id": "21dd0bb3",
   "metadata": {},
   "source": [
    "``index-value share-price``"
   ]
  },
  {
   "cell_type": "markdown",
   "id": "79d80b71",
   "metadata": {},
   "source": [
    "< [Table of Contents](#top) | [References](#references) >\n",
    "<a id=\"week4\"></a>\n",
    "***\n",
    "###### Week 4 Quiz (HTTP JSON AJAX and REST)\n",
    "***"
   ]
  },
  {
   "cell_type": "markdown",
   "id": "65e8e376",
   "metadata": {},
   "source": [
    "```\n",
    "Which HTTP method would be most suitable to retrieve data from a webserver\n",
    "(one word answer please)\n",
    "```\n",
    "***"
   ]
  },
  {
   "cell_type": "markdown",
   "id": "f15365ac",
   "metadata": {},
   "source": [
    "``GET``"
   ]
  },
  {
   "cell_type": "markdown",
   "id": "58c6f4d8",
   "metadata": {},
   "source": [
    "```\n",
    "Name one HTTP method which would be most suitable for sending information to a website.\n",
    "(one word answer please, yes there are two possible answers)\n",
    "```\n",
    "***"
   ]
  },
  {
   "cell_type": "markdown",
   "id": "909197e4",
   "metadata": {},
   "source": [
    "``POST``"
   ]
  },
  {
   "cell_type": "markdown",
   "id": "5226244c",
   "metadata": {},
   "source": [
    "```\n",
    "Which HTTP method would be most suitable to use for a HTTP call that is to remove information from a webserver.\n",
    "(one word please)\n",
    "```\n",
    "***"
   ]
  },
  {
   "cell_type": "markdown",
   "id": "52f0d1fc",
   "metadata": {},
   "source": [
    "``DELETE``"
   ]
  },
  {
   "cell_type": "markdown",
   "id": "6b099abc",
   "metadata": {},
   "source": [
    "```\n",
    "What status code should a webserver return if everything is OK (ie the page is served successfully).\n",
    "```\n",
    "***"
   ]
  },
  {
   "cell_type": "markdown",
   "id": "3a246da9",
   "metadata": {},
   "source": [
    "``200``"
   ]
  },
  {
   "cell_type": "markdown",
   "id": "ff00a464",
   "metadata": {},
   "source": [
    "```\n",
    "What status code would a web-server return if the page is not found?\n",
    "```\n",
    "***"
   ]
  },
  {
   "cell_type": "markdown",
   "id": "8bf9e409",
   "metadata": {},
   "source": [
    "``404``"
   ]
  },
  {
   "cell_type": "markdown",
   "id": "cd42fd57",
   "metadata": {},
   "source": [
    "```\n",
    "What status code would a server return if the client is Unauthorised?\n",
    "```\n",
    "***"
   ]
  },
  {
   "cell_type": "markdown",
   "id": "544f164e",
   "metadata": {},
   "source": [
    "``401``"
   ]
  },
  {
   "cell_type": "markdown",
   "id": "a8173a14",
   "metadata": {},
   "source": [
    "```\n",
    "What would the JSON look like for an Object that have two attributes:\n",
    "age=24 and name=fred\n",
    "```\n",
    "***"
   ]
  },
  {
   "cell_type": "markdown",
   "id": "1a0a4d76",
   "metadata": {},
   "source": [
    "``{\"age\":24,\"name\":\"fred\"}``"
   ]
  },
  {
   "cell_type": "markdown",
   "id": "30d0cae9",
   "metadata": {},
   "source": [
    "```\n",
    "What would the JSON look like for an Array that has three values:\n",
    "\"Fred\", \"John\" and \"Mary\"?\n",
    "```\n",
    "***"
   ]
  },
  {
   "cell_type": "markdown",
   "id": "0010673a",
   "metadata": {},
   "source": [
    "``[\"Fred\",\"John\",\"Mary\"]``"
   ]
  },
  {
   "cell_type": "markdown",
   "id": "bf3ba68d",
   "metadata": {},
   "source": [
    "< [Table of Contents](#top) | [References](#references) >\n",
    "<a id=\"week5\"></a>\n",
    "***\n",
    "###### Week 5 Quiz (CURL and REST)\n",
    "***"
   ]
  },
  {
   "cell_type": "markdown",
   "id": "04cc9164",
   "metadata": {},
   "source": [
    "```\n",
    "What is the status code that is returned from a GET request sent to wwww.githup.com (not www.github.com).\n",
    "(three digit number)\n",
    "```\n",
    "***"
   ]
  },
  {
   "cell_type": "markdown",
   "id": "6d2e96ff",
   "metadata": {},
   "source": [
    "``200``"
   ]
  },
  {
   "cell_type": "code",
   "execution_count": 1,
   "id": "90846362",
   "metadata": {},
   "outputs": [
    {
     "name": "stdout",
     "output_type": "stream",
     "text": [
      "HTTP/1.1 200 OK\r\n",
      "Server: openresty/1.13.6.1\r\n",
      "Date: Fri, 26 Nov 2021 14:45:56 GMT\r\n",
      "Content-Type: application/octet-stream\r\n",
      "Content-Length: 110\r\n",
      "Connection: close\r\n",
      "Content-Type: text/html\r\n",
      "\r\n",
      "<html><head><title>www.githup.com</title></head><body><h1>www.githup.com</h1><p>Coming soon.</p></body></html>"
     ]
    },
    {
     "name": "stderr",
     "output_type": "stream",
     "text": [
      "  % Total    % Received % Xferd  Average Speed   Time    Time     Time  Current\r\n",
      "                                 Dload  Upload   Total   Spent    Left  Speed\r\n",
      "\r",
      "  0     0    0     0    0     0      0      0 --:--:-- --:--:-- --:--:--     0\r",
      "100   110  100   110    0     0    110      0  0:00:01 --:--:--  0:00:01   391\r\n"
     ]
    }
   ],
   "source": [
    "%%script bash\n",
    "curl -i -X GET www.githup.com"
   ]
  },
  {
   "cell_type": "markdown",
   "id": "b8a3d464",
   "metadata": {},
   "source": [
    "```\n",
    "What is the status code that is returned when you go a GET request to www.gmit.ie.\n",
    "```\n",
    "***"
   ]
  },
  {
   "cell_type": "markdown",
   "id": "15e72dcf",
   "metadata": {},
   "source": [
    "``301``"
   ]
  },
  {
   "cell_type": "code",
   "execution_count": 2,
   "id": "6c77bf81",
   "metadata": {},
   "outputs": [
    {
     "name": "stdout",
     "output_type": "stream",
     "text": [
      "HTTP/1.1 301 Moved Permanently\r\n",
      "Content-Length: 162\r\n",
      "Content-Type: text/html\r\n",
      "Date: Fri, 26 Nov 2021 14:45:57 GMT\r\n",
      "Location: https://www.gmit.ie/\r\n",
      "Strict-Transport-Security: max-age=0\r\n",
      "X-Debug-Info: eyJyZXRyaWVzIjowfQ==\r\n",
      "X-Platform-Cluster: 5zxrdiwhjzyzy-master-7rqtwti\r\n",
      "X-Platform-Router: amp27zj6hbxzvj4z27qohw43rm\r\n",
      "X-Request-Id: 00-16bb1fe50533e5423d91394ce5074764-079b5cd63cb571f0-00\r\n",
      "\r\n",
      "<html>\r\n",
      "<head><title>301 Moved Permanently</title></head>\r\n",
      "<body>\r\n",
      "<center><h1>301 Moved Permanently</h1></center>\r\n",
      "<hr><center>nginx</center>\r\n",
      "</body>\r\n",
      "</html>\r\n"
     ]
    },
    {
     "name": "stderr",
     "output_type": "stream",
     "text": [
      "  % Total    % Received % Xferd  Average Speed   Time    Time     Time  Current\r\n",
      "                                 Dload  Upload   Total   Spent    Left  Speed\r\n",
      "\r",
      "  0     0    0     0    0     0      0      0 --:--:-- --:--:-- --:--:--     0\r",
      "100   162  100   162    0     0    162      0  0:00:01 --:--:--  0:00:01  2571\r\n"
     ]
    }
   ],
   "source": [
    "%%script bash\n",
    "curl -i -X GET www.gmit.ie"
   ]
  },
  {
   "cell_type": "markdown",
   "id": "039fd68a",
   "metadata": {},
   "source": [
    "```\n",
    "What is the status code that is returned when you do a GET request to https://www.gmit.ie.\n",
    "```\n",
    "***"
   ]
  },
  {
   "cell_type": "markdown",
   "id": "b48f8dff",
   "metadata": {},
   "source": [
    "``200``"
   ]
  },
  {
   "cell_type": "code",
   "execution_count": 3,
   "id": "5f9b4053",
   "metadata": {
    "scrolled": false
   },
   "outputs": [],
   "source": [
    "%%script bash\n",
    "# curl -i -X GET https://www.gmit.ie"
   ]
  },
  {
   "cell_type": "markdown",
   "id": "e84b6ff1",
   "metadata": {},
   "source": [
    "```\n",
    "What is the status code you get when you send a DELETE request to www.githup.com (not www.github.com).\n",
    "```\n",
    "***"
   ]
  },
  {
   "cell_type": "markdown",
   "id": "02c1045a",
   "metadata": {},
   "source": [
    "``200``"
   ]
  },
  {
   "cell_type": "code",
   "execution_count": 4,
   "id": "fb2083b2",
   "metadata": {},
   "outputs": [
    {
     "name": "stdout",
     "output_type": "stream",
     "text": [
      "HTTP/1.1 200 OK\r\n",
      "Server: openresty/1.13.6.1\r\n",
      "Date: Fri, 26 Nov 2021 14:46:00 GMT\r\n",
      "Content-Type: application/octet-stream\r\n",
      "Content-Length: 110\r\n",
      "Connection: close\r\n",
      "Content-Type: text/html\r\n",
      "\r\n",
      "<html><head><title>www.githup.com</title></head><body><h1>www.githup.com</h1><p>Coming soon.</p></body></html>"
     ]
    },
    {
     "name": "stderr",
     "output_type": "stream",
     "text": [
      "  % Total    % Received % Xferd  Average Speed   Time    Time     Time  Current\r\n",
      "                                 Dload  Upload   Total   Spent    Left  Speed\r\n",
      "\r",
      "  0     0    0     0    0     0      0      0 --:--:-- --:--:-- --:--:--     0\r",
      "  0     0    0     0    0     0      0      0 --:--:-- --:--:-- --:--:--     0\r",
      "100   110  100   110    0     0    110      0  0:00:01 --:--:--  0:00:01   440\r\n"
     ]
    }
   ],
   "source": [
    "%%script bash\n",
    "curl -i -X DELETE www.githup.com"
   ]
  },
  {
   "cell_type": "markdown",
   "id": "560a2d0b",
   "metadata": {},
   "source": [
    "```\n",
    "What is the status code you get back when you make a POST request to https://api.twitter.com/oauth/request_token.\n",
    "(3 digits only please)\n",
    "```\n",
    "***"
   ]
  },
  {
   "cell_type": "markdown",
   "id": "f6819247",
   "metadata": {},
   "source": [
    "``400``"
   ]
  },
  {
   "cell_type": "code",
   "execution_count": 5,
   "id": "e97a5198",
   "metadata": {},
   "outputs": [
    {
     "name": "stdout",
     "output_type": "stream",
     "text": [
      "HTTP/1.1 400 Bad Request\r\n",
      "date: Fri, 26 Nov 2021 14:46:01 GMT\r\n",
      "pragma: no-cache\r\n",
      "server: tsa_f\r\n",
      "status: 400 Bad Request\r\n",
      "expires: Tue, 31 Mar 1981 05:00:00 GMT\r\n",
      "set-cookie: guest_id_marketing=v1%3A163793796158734096; Max-Age=63072000; Expires=Sun, 26 Nov 2023 14:46:01 GMT; Path=/; Domain=.twitter.com; Secure; SameSite=None\r\n",
      "set-cookie: guest_id_ads=v1%3A163793796158734096; Max-Age=63072000; Expires=Sun, 26 Nov 2023 14:46:01 GMT; Path=/; Domain=.twitter.com; Secure; SameSite=None\r\n",
      "set-cookie: personalization_id=\"v1_Iz7FwvC5QOszlORIT8ld1g==\"; Max-Age=63072000; Expires=Sun, 26 Nov 2023 14:46:01 GMT; Path=/; Domain=.twitter.com; Secure; SameSite=None\r\n",
      "set-cookie: guest_id=v1%3A163793796158734096; Max-Age=63072000; Expires=Sun, 26 Nov 2023 14:46:01 GMT; Path=/; Domain=.twitter.com; Secure; SameSite=None\r\n",
      "content-type: application/json; charset=utf-8\r\n",
      "cache-control: no-cache, no-store, must-revalidate, pre-check=0, post-check=0\r\n",
      "last-modified: Fri, 26 Nov 2021 14:46:01 GMT\r\n",
      "x-transaction: bc9b5015699bda79\r\n",
      "content-length: 62\r\n",
      "x-frame-options: SAMEORIGIN\r\n",
      "x-xss-protection: 0\r\n",
      "content-disposition: attachment; filename=json.json\r\n",
      "x-content-type-options: nosniff\r\n",
      "x-twitter-response-tags: BouncerCompliant\r\n",
      "strict-transport-security: max-age=631138519\r\n",
      "x-response-time: 104\r\n",
      "x-connection-hash: 713a3cc6ee835824bdda46197ca0dca055d7cf69529263aadcda7decf856d3aa\r\n",
      "\r\n",
      "{\"errors\":[{\"code\":215,\"message\":\"Bad Authentication data.\"}]}"
     ]
    },
    {
     "name": "stderr",
     "output_type": "stream",
     "text": [
      "  % Total    % Received % Xferd  Average Speed   Time    Time     Time  Current\r\n",
      "                                 Dload  Upload   Total   Spent    Left  Speed\r\n",
      "\r",
      "  0     0    0     0    0     0      0      0 --:--:-- --:--:-- --:--:--     0\r",
      "100    62  100    62    0     0     62      0  0:00:01 --:--:--  0:00:01   264\r\n"
     ]
    }
   ],
   "source": [
    "%%script bash\n",
    "curl -i -X POST https://api.twitter.com/oauth/request_token"
   ]
  },
  {
   "cell_type": "markdown",
   "id": "6797f98a",
   "metadata": {},
   "source": [
    "```\n",
    "What is the 3 digit status code you get back when you send a DELETE request to https://jsonplaceholder.typicode.com/posts/1.\n",
    "```\n",
    "***"
   ]
  },
  {
   "cell_type": "markdown",
   "id": "20169ef4",
   "metadata": {},
   "source": [
    "``200``"
   ]
  },
  {
   "cell_type": "code",
   "execution_count": 6,
   "id": "8fde61ef",
   "metadata": {},
   "outputs": [
    {
     "name": "stdout",
     "output_type": "stream",
     "text": [
      "HTTP/1.1 200 OK\r\n",
      "Date: Fri, 26 Nov 2021 14:46:03 GMT\r\n",
      "Content-Type: application/json; charset=utf-8\r\n",
      "Content-Length: 2\r\n",
      "Connection: keep-alive\r\n",
      "x-powered-by: Express\r\n",
      "x-ratelimit-limit: 1000\r\n",
      "x-ratelimit-remaining: 999\r\n",
      "x-ratelimit-reset: 1637938019\r\n",
      "vary: Origin, Accept-Encoding\r\n",
      "access-control-allow-credentials: true\r\n",
      "cache-control: no-cache\r\n",
      "pragma: no-cache\r\n",
      "expires: -1\r\n",
      "x-content-type-options: nosniff\r\n",
      "etag: W/\"2-vyGp6PvFo4RvsFtPoIWeCReyIC8\"\r\n",
      "via: 1.1 vegur\r\n",
      "CF-Cache-Status: DYNAMIC\r\n",
      "Expect-CT: max-age=604800, report-uri=\"https://report-uri.cloudflare.com/cdn-cgi/beacon/expect-ct\"\r\n",
      "Report-To: {\"endpoints\":[{\"url\":\"https:\\/\\/a.nel.cloudflare.com\\/report\\/v3?s=R5ISFn679mqxwkV2VERl%2Ftt43zoCbtdbnad7wvm%2FPD3ulSNXCTCxnotBZoVcPo8v%2FwR5dKWNTpv9tel0DvfPjTV4nKAvlbdB3fPA9rOE1BpGRW9uxZv2tgscLY8P8BZ5NKSQG1O%2Fd8iH9PEXBqDo\"}],\"group\":\"cf-nel\",\"max_age\":604800}\r\n",
      "NEL: {\"success_fraction\":0,\"report_to\":\"cf-nel\",\"max_age\":604800}\r\n",
      "Server: cloudflare\r\n",
      "CF-RAY: 6b43e76da9fe32c5-CDG\r\n",
      "alt-svc: h3=\":443\"; ma=86400, h3-29=\":443\"; ma=86400, h3-28=\":443\"; ma=86400, h3-27=\":443\"; ma=86400\r\n",
      "\r\n",
      "{}"
     ]
    },
    {
     "name": "stderr",
     "output_type": "stream",
     "text": [
      "  % Total    % Received % Xferd  Average Speed   Time    Time     Time  Current\r\n",
      "                                 Dload  Upload   Total   Spent    Left  Speed\r\n",
      "\r",
      "  0     0    0     0    0     0      0      0 --:--:-- --:--:-- --:--:--     0\r",
      "100     2  100     2    0     0      2      0  0:00:01 --:--:--  0:00:01     6\r\n"
     ]
    }
   ],
   "source": [
    "%%script bash\n",
    "curl -i -X DELETE https://jsonplaceholder.typicode.com/posts/1"
   ]
  },
  {
   "cell_type": "markdown",
   "id": "573307f6",
   "metadata": {},
   "source": [
    "```\n",
    "In FLASK you can map a relative URL to a function with the line:\n",
    "@app.route('cars/',methods=['GET'])\n",
    "\n",
    "How would you map the relative URL /employees with the DELETE method to a function?\n",
    "(no spaces)\n",
    "```\n",
    "***"
   ]
  },
  {
   "cell_type": "markdown",
   "id": "b84e2393",
   "metadata": {},
   "source": [
    "```python\n",
    "@app.route('/employees',methods=['DELETE'])\n",
    "```"
   ]
  },
  {
   "cell_type": "markdown",
   "id": "3fa461fc",
   "metadata": {},
   "source": [
    "***\n",
    "## END"
   ]
  },
  {
   "cell_type": "markdown",
   "id": "e0e42d51",
   "metadata": {},
   "source": [
    "< [Table of Contents](#top) >\n",
    "<a id=\"references\"></a>\n",
    "***\n",
    "## References\n",
    "***"
   ]
  },
  {
   "cell_type": "markdown",
   "id": "b33c372a",
   "metadata": {},
   "source": [
    "***\n",
    "## END"
   ]
  },
  {
   "cell_type": "markdown",
   "id": "e5961b4d",
   "metadata": {},
   "source": [
    "< [Table of Contents](#top) >\n",
    "<a id=\"appendix\"></a>\n",
    "***\n",
    "## Appendix\n",
    "***"
   ]
  },
  {
   "cell_type": "markdown",
   "id": "00d82a82",
   "metadata": {},
   "source": [
    "***\n",
    "## END"
   ]
  },
  {
   "cell_type": "markdown",
   "id": "899c1783",
   "metadata": {},
   "source": [
    "# END JUPYTER NOTEBOOK"
   ]
  }
 ],
 "metadata": {
  "kernelspec": {
   "display_name": "Python 3",
   "language": "python",
   "name": "python3"
  },
  "language_info": {
   "codemirror_mode": {
    "name": "ipython",
    "version": 3
   },
   "file_extension": ".py",
   "mimetype": "text/x-python",
   "name": "python",
   "nbconvert_exporter": "python",
   "pygments_lexer": "ipython3",
   "version": "3.8.8"
  }
 },
 "nbformat": 4,
 "nbformat_minor": 5
}
