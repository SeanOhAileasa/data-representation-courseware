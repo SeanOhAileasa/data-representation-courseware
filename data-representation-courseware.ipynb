{
 "cells": [
  {
   "cell_type": "code",
   "execution_count": null,
   "id": "76b6aaa9",
   "metadata": {},
   "outputs": [
    {
     "data": {
      "text/html": [
       "<script>Jupyter.notebook.kernel.restart()</script>"
      ]
     },
     "metadata": {},
     "output_type": "display_data"
    }
   ],
   "source": [
    "from IPython.core.display import display_html\n",
    "display_html(\"<script>Jupyter.notebook.kernel.restart()</script>\",raw=True)"
   ]
  },
  {
   "cell_type": "code",
   "execution_count": 1,
   "id": "19093beb",
   "metadata": {},
   "outputs": [
    {
     "data": {
      "text/html": [
       "<style>.container { width:100% !important; }</style>"
      ],
      "text/plain": [
       "<IPython.core.display.HTML object>"
      ]
     },
     "metadata": {},
     "output_type": "display_data"
    },
    {
     "data": {
      "text/html": [
       "<style>.container { width:100% !important; }</style>"
      ],
      "text/plain": [
       "<IPython.core.display.HTML object>"
      ]
     },
     "metadata": {},
     "output_type": "display_data"
    }
   ],
   "source": [
    "from sys import path; path.insert(1,\"../src\");\n",
    "import fubar; from importlib import reload; reload(fubar);"
   ]
  },
  {
   "cell_type": "markdown",
   "id": "47be5cdf",
   "metadata": {},
   "source": [
    "***\n",
    "< [GMIT Data Analytics](https://web.archive.org/web/20201029063153/https://www.gmit.ie/computer-science-and-applied-physics/higher-diploma-science-computing-data-analytics-ict) | [Home](https://github.com/SeanOhAileasa) | [README](https://github.com/SeanOhAileasa/drp-data-representation/blob/main/README.md) >\n",
    "\n",
    "[![GMIT](https://github.com/SeanOhAileasa/SeanOhAileasa/blob/master/rc/gmit.png?raw=true)](https://web.archive.org/web/20201029063153/https://www.gmit.ie/computer-science-and-applied-physics/higher-diploma-science-computing-data-analytics-ict)\n",
    "\n",
    "## Data Representation - Course Material 2021\n",
    "### Topic: [Data Representation](https://nbviewer.jupyter.org/github/SeanOhAileasa/drp-data-representation/blob/main/drp-data-representation.ipynb)\n",
    "\n",
    "Course quizzes for the ``Data Representation`` module (5 Credits) of the ``Higher Diploma in Science in Computing (Data Analytics) (H.Dip)`` programme (75 Credits) at **Galway-Mayo Institute of Technology (GMIT)**.\n",
    "***"
   ]
  },
  {
   "cell_type": "markdown",
   "id": "e1449819",
   "metadata": {},
   "source": [
    "<a id=\"top\"></a>\n",
    "***\n",
    "## Table of Contents\n",
    "***\n",
    "\n",
    "### [Quizzes](#abstract)\n",
    "\n",
    "* [Week 2 (Create an XML file)](#week2) <br/><br/>\n",
    "* [Week 03 Quiz (Consuming XML/HTML data from the web)](#week3)"
   ]
  },
  {
   "cell_type": "markdown",
   "id": "bc989e6f",
   "metadata": {},
   "source": [
    "***\n",
    "## END"
   ]
  },
  {
   "cell_type": "markdown",
   "id": "0c88ab4a",
   "metadata": {},
   "source": [
    "< [Table of Contents](#top) | [References](#references) >\n",
    "<a id=\"abstract\"></a>\n",
    "***\n",
    "### Quizzes\n",
    "***"
   ]
  },
  {
   "cell_type": "markdown",
   "id": "d9f4c2df",
   "metadata": {},
   "source": [
    "< [Table of Contents](#top) | [References](#references) >\n",
    "<a id=\"week2\"></a>\n",
    "***\n",
    "###### Week 2 (Create an XML file)\n",
    "***"
   ]
  },
  {
   "cell_type": "markdown",
   "id": "80f27719",
   "metadata": {},
   "source": [
    "Create an XML file that stores data for a library. \n",
    "\n",
    "The library has two catalogues (technical books, and for cookery books).\n",
    "\n",
    "Each catalogue can contain a number of books (say 2 for the purpose of this exercise) . \n",
    "\n",
    "Books will have an ISBN, title and author.\n",
    "***"
   ]
  },
  {
   "cell_type": "code",
   "execution_count": 1,
   "id": "56c236f1",
   "metadata": {},
   "outputs": [
    {
     "name": "stdout",
     "output_type": "stream",
     "text": [
      "<?xml version=\"1.0\" encoding=\"UTF-8\"?> <!-- COMMENT: declaration -->\r\n",
      "<Catalogue> <!-- COMMENT: root element - START -->\r\n",
      "    <Book category=\"Technical\"> <!-- COMMENT: <Catalogue> child element - attribute category - 1 - START -->\r\n",
      "        <ISBN>1593279280</ISBN> <!-- COMMENT: <Book> child element - START/END -->\r\n",
      "        <Title>Python Crash Course</Title>\r\n",
      "        <Author>E. Matthes</Author>\r\n",
      "    </Book> <!-- COMMENT: <Catalogue> child element - 1 - END -->\r\n",
      "    <Book category=\"Technical\"> <!-- COMMENT: <Catalogue> child element - attribute category - 2 - START -->\r\n",
      "        <ISBN>0471257095</ISBN> <!-- COMMENT: <Book> child element - START/END -->\r\n",
      "        <Title>An Introduction to Probability Theory and Its Applications</Title>\r\n",
      "        <Author>W. Feller</Author>  \r\n",
      "    </Book> <!-- COMMENT: <Catalogue> child element - 2 - END -->\r\n",
      "    <Book category=\"Cookery\"> <!-- COMMENT: <Catalogue> child element - attribute category - 1 - START -->\r\n",
      "        <ISBN>1911632779</ISBN> <!-- COMMENT: <Book> child element - START/END -->\r\n",
      "        <Title>Japanese Food Made Easy</Title>\r\n",
      "        <Author>A. Nishimura</Author>  \r\n",
      "    </Book> <!-- COMMENT: <Catalogue> child element - 1 - END -->\r\n",
      "    <Book category=\"Cookery\"> <!-- COMMENT: <Catalogue> child element - attribute category - 2 - START -->\r\n",
      "        <ISBN>1849758840</ISBN> <!-- COMMENT: <Book> child element - START/END -->\r\n",
      "        <Title>Sushi Made Simple</Title>\r\n",
      "        <Author>A. Ikeda</Author>  \r\n",
      "    </Book> <!-- COMMENT: <Catalogue> child element - 2 - END -->\r\n",
      "</Catalogue> <!-- COMMENT: root element - END -->"
     ]
    }
   ],
   "source": [
    "%%script bash\n",
    "cat ./rc/library.xml"
   ]
  },
  {
   "cell_type": "markdown",
   "id": "f39f0361",
   "metadata": {},
   "source": [
    "< [Table of Contents](#top) | [References](#references) >\n",
    "<a id=\"week3\"></a>\n",
    "***\n",
    "###### Week 3 Quiz (Consuming XML/HTML data from the web)\n",
    "***"
   ]
  },
  {
   "cell_type": "markdown",
   "id": "f4b56046",
   "metadata": {},
   "source": [
    "```\n",
    "Look at this URL:\n",
    "\n",
    "https://github.com/andrewbeattycourseware/dataRepresentation\n",
    "\n",
    "What is the resource does this URL point to?\n",
    "```\n",
    "***"
   ]
  },
  {
   "cell_type": "markdown",
   "id": "62f97b47",
   "metadata": {},
   "source": [
    "``/andrewbeattycourseware/dataRepresentation``"
   ]
  },
  {
   "cell_type": "markdown",
   "id": "92c1a5c6",
   "metadata": {},
   "source": [
    "```\n",
    "Look at this URL\n",
    "\n",
    "https://github.com/andrewbeattycourseware/dataRepresentation\n",
    "\n",
    "What is the host of this URL?\n",
    "```\n",
    "***"
   ]
  },
  {
   "cell_type": "markdown",
   "id": "683fa6a4",
   "metadata": {},
   "source": [
    "``github.com``"
   ]
  },
  {
   "cell_type": "markdown",
   "id": "2ff0d5e8",
   "metadata": {},
   "source": [
    "```\n",
    "Look at this URL\n",
    "\n",
    "https://learnonline.gmit.ie/course/view.php?id=1119\n",
    "\n",
    "What is the parameter name and value in this URL?\n",
    "```\n",
    "***"
   ]
  },
  {
   "cell_type": "markdown",
   "id": "c22db587",
   "metadata": {},
   "source": [
    "``id=1119``"
   ]
  },
  {
   "cell_type": "markdown",
   "id": "9ccc92c9",
   "metadata": {},
   "source": [
    "```\n",
    "What is the command to get data from a url (say http://gmit.ie)?\n",
    "\n",
    "ie what code would go where the the Xs are\n",
    "\n",
    "import requests\n",
    "page = XXXXXXXXXXXXXXXXXXX\n",
    "```\n",
    "***"
   ]
  },
  {
   "cell_type": "markdown",
   "id": "22f86a02",
   "metadata": {},
   "source": [
    "``requests.get(\"http://gmit.ie\")``"
   ]
  },
  {
   "cell_type": "markdown",
   "id": "bdb7f497",
   "metadata": {},
   "source": [
    "```\n",
    "What is the function you would use in beautifulsoup to find all the <tr> tags?\n",
    "\n",
    "ie what function would go where the Xs are?\n",
    "\n",
    "rows = soup.xxxxxxx\n",
    "```\n",
    "***"
   ]
  },
  {
   "cell_type": "markdown",
   "id": "b7db44d9",
   "metadata": {},
   "source": [
    "``findAll(\"tr\")``"
   ]
  },
  {
   "cell_type": "markdown",
   "id": "dbe444d4",
   "metadata": {},
   "source": [
    "```xml\n",
    "<contents>\n",
    "   <data1> one</data1>\n",
    "<data2>two</data2>\n",
    "</contents>\n",
    "```\n",
    "\n",
    "```\n",
    "in a xml file how would you extract the contents of the data2 tag (ie the value 2)?\n",
    "\n",
    "ie what would go where the Xs are\n",
    "\n",
    "contentsTag = soup.find(\"contents\")\n",
    "var = contentsTag.data2.XXXXXXX  // contents.data2 gets the data2 tag similar to contentsTag.find(\"data2\")\n",
    "\n",
    "This is a one word answer\n",
    "```\n",
    "***"
   ]
  },
  {
   "cell_type": "markdown",
   "id": "f6d0634b",
   "metadata": {},
   "source": [
    "``string``"
   ]
  },
  {
   "cell_type": "markdown",
   "id": "c6a4fc87",
   "metadata": {},
   "source": [
    "```\n",
    "Go to \n",
    "\n",
    "https://www.davyselect.ie/markets-shareprices/shares?ric=CRH.I\n",
    "\n",
    "    note the share price for CRH\n",
    "    view-source for this page \n",
    "    ctrl-F search for the share price\n",
    "\n",
    "What is the classes (2) for the containing <data> tag?\n",
    "(When I did this search the price appeared 4 times, you are looking for the one that is in a <data> tag. I think it is the first appearance)\n",
    "```\n",
    "***"
   ]
  },
  {
   "cell_type": "markdown",
   "id": "21dd0bb3",
   "metadata": {},
   "source": [
    "``index-value share-price``"
   ]
  },
  {
   "cell_type": "markdown",
   "id": "3fa461fc",
   "metadata": {},
   "source": [
    "***\n",
    "## END"
   ]
  },
  {
   "cell_type": "markdown",
   "id": "e0e42d51",
   "metadata": {},
   "source": [
    "< [Table of Contents](#top) | [Abstract](#abstract) | [Introduction](#introduction) | [Solution](#solution) | [Conclusion](#conclusion) | [References](#references) >\n",
    "<a id=\"references\"></a>\n",
    "***\n",
    "## References\n",
    "***"
   ]
  },
  {
   "cell_type": "markdown",
   "id": "b33c372a",
   "metadata": {},
   "source": [
    "***\n",
    "## END"
   ]
  },
  {
   "cell_type": "markdown",
   "id": "e5961b4d",
   "metadata": {},
   "source": [
    "< [Table of Contents](#top) | [Abstract](#abstract) | [Introduction](#introduction) | [Solution](#solution) | [Conclusion](#conclusion) | [References](#references) >\n",
    "<a id=\"appendix\"></a>\n",
    "***\n",
    "## Appendix\n",
    "***"
   ]
  },
  {
   "cell_type": "markdown",
   "id": "00d82a82",
   "metadata": {},
   "source": [
    "***\n",
    "## END"
   ]
  },
  {
   "cell_type": "markdown",
   "id": "899c1783",
   "metadata": {},
   "source": [
    "# END JUPYTER NOTEBOOK"
   ]
  }
 ],
 "metadata": {
  "kernelspec": {
   "display_name": "Python 3",
   "language": "python",
   "name": "python3"
  },
  "language_info": {
   "codemirror_mode": {
    "name": "ipython",
    "version": 3
   },
   "file_extension": ".py",
   "mimetype": "text/x-python",
   "name": "python",
   "nbconvert_exporter": "python",
   "pygments_lexer": "ipython3",
   "version": "3.8.8"
  }
 },
 "nbformat": 4,
 "nbformat_minor": 5
}
